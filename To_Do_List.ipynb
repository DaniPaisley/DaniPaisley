{
  "nbformat": 4,
  "nbformat_minor": 0,
  "metadata": {
    "colab": {
      "provenance": [],
      "authorship_tag": "ABX9TyPtuZIBU4allz+evDZKw307",
      "include_colab_link": true
    },
    "kernelspec": {
      "name": "python3",
      "display_name": "Python 3"
    },
    "language_info": {
      "name": "python"
    }
  },
  "cells": [
    {
      "cell_type": "markdown",
      "metadata": {
        "id": "view-in-github",
        "colab_type": "text"
      },
      "source": [
        "<a href=\"https://colab.research.google.com/github/DaniPaisley/DaniPaisley/blob/main/To_Do_List.ipynb\" target=\"_parent\"><img src=\"https://colab.research.google.com/assets/colab-badge.svg\" alt=\"Open In Colab\"/></a>"
      ]
    },
    {
      "cell_type": "code",
      "execution_count": null,
      "metadata": {
        "colab": {
          "base_uri": "https://localhost:8080/"
        },
        "id": "b9rfV92YDMJv",
        "outputId": "16da5357-fca7-4a5b-e37a-b7bea5fd6cd7"
      },
      "outputs": [
        {
          "output_type": "stream",
          "name": "stdout",
          "text": [
            "\n",
            "1. Add a task\n",
            "2. View tasks\n",
            "3. Remove a task\n",
            "4. Exit\n",
            "Enter your choice: 1\n",
            "Enter a new task: Pack for trip\n",
            "'Pack for trip' added to your to-do list.\n",
            "\n",
            "1. Add a task\n",
            "2. View tasks\n",
            "3. Remove a task\n",
            "4. Exit\n",
            "Enter your choice: 1\n",
            "Enter a new task: vacum home\n",
            "'vacum home' added to your to-do list.\n",
            "\n",
            "1. Add a task\n",
            "2. View tasks\n",
            "3. Remove a task\n",
            "4. Exit\n",
            "Enter your choice: 1\n",
            "Enter a new task: Prep work lunches\n",
            "'Prep work lunches' added to your to-do list.\n",
            "\n",
            "1. Add a task\n",
            "2. View tasks\n",
            "3. Remove a task\n",
            "4. Exit\n",
            "Enter your choice: 2\n",
            "\n",
            "Your To-Do List:\n",
            "1. Pack for trip\n",
            "2. vacum home\n",
            "3. Prep work lunches\n",
            "\n",
            "1. Add a task\n",
            "2. View tasks\n",
            "3. Remove a task\n",
            "4. Exit\n"
          ]
        }
      ],
      "source": [
        "# To-Do List in Python\n",
        "\n",
        "todo_list = []\n",
        "\n",
        "def show_menu():\n",
        "    print(\"\\n1. Add a task\")\n",
        "    print(\"2. View tasks\")\n",
        "    print(\"3. Remove a task\")\n",
        "    print(\"4. Exit\")\n",
        "\n",
        "while True:\n",
        "    show_menu()\n",
        "    choice = input(\"Enter your choice: \")\n",
        "\n",
        "    if choice == '1':\n",
        "        task = input(\"Enter a new task: \")\n",
        "        todo_list.append(task)\n",
        "        print(f\"'{task}' added to your to-do list.\")\n",
        "    elif choice == '2':\n",
        "        print(\"\\nYour To-Do List:\")\n",
        "        for idx, task in enumerate(todo_list, 1):\n",
        "            print(f\"{idx}. {task}\")\n",
        "    elif choice == '3':\n",
        "        print(\"\\nYour To-Do List:\")\n",
        "        for idx, task in enumerate(todo_list, 1):\n",
        "            print(f\"{idx}. {task}\")\n",
        "        task_number = int(input(\"Enter the task number to remove: \"))\n",
        "        if 0 < task_number <= len(todo_list):\n",
        "            removed_task = todo_list.pop(task_number - 1)\n",
        "            print(f\"'{removed_task}' removed from your to-do list.\")\n",
        "        else:\n",
        "            print(\"Invalid task number!\")\n",
        "    elif choice == '4':\n",
        "        print(\"Goodbye!\")\n",
        "        break\n",
        "    else:\n",
        "        print(\"Invalid choice. Please select a valid option.\")"
      ]
    }
  ]
}