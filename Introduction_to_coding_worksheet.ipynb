{
  "nbformat": 4,
  "nbformat_minor": 0,
  "metadata": {
    "colab": {
      "provenance": []
    },
    "kernelspec": {
      "name": "python3",
      "display_name": "Python 3"
    }
  },
  "cells": [
    {
      "cell_type": "markdown",
      "metadata": {
        "id": "XucO3hG0o36k"
      },
      "source": [
        "# Introduction to coding\n",
        "\n",
        "This worksheet combines key points from the 'Introduction to coding / programming' workshop with working code you can run and annotate to see concepts in action.\n",
        "\n",
        "**You will need to make your own copy of this worksheet to continue.**\n",
        "\n",
        "**Go to 'File' > 'Save a copy in Drive' so you have your own version of this notebook to run the code and add your own annotations. You'll need to log in to a Google account to do this.**\n",
        "\n",
        "## Other session resources\n",
        "\n",
        "The slides for the session can be found on [Google Slides](https://docs.google.com/presentation/d/158z5xXYt4XsTdEk760asfHWQmoNLq4QbahrumVVKVio/edit). If you're not attending the session, it is worth working through the slides before going through the content in this notebook.\n",
        "\n",
        "The session also involves a flowchart for making tea, which you can make a copy of and play with in [Google Slides](https://docs.google.com/presentation/d/1ddSz2GQrvS3epHG7WsWl_XGmdOFirInJ8b4A39JBL6c/edit#slide=id.p).\n",
        "\n",
        "There is also a [Google Doc version](https://docs.google.com/document/d/1RmDxmn9KpdeO_3ctdjn2-6zMvBU0PydwU7YH6cCv2fE/) of this worksheet, but this version has code that works and additional notes, so this notebook is recommended.\n",
        "\n",
        "For further resources on coding and details of training, see our [Coding Practical Guide](http://subjectguides.york.ac.uk/coding)."
      ]
    },
    {
      "cell_type": "markdown",
      "metadata": {
        "id": "tbXZeU-LxPy1"
      },
      "source": [
        "# Using this notebook\n",
        "\n",
        "This notebook is created in Google Colaboratory (or Colab for short), a tool for creating 'notebooks' of Python code that are stored in Google Drive. Having your own copy of the notebook means you can edit it, adding additonal notes and running the code. You can even try tweaking the code if you want!\n",
        "\n",
        "The notebook saves automatically to Google Drive, so you don't need to save it. You can share the notebook using the Share button in the top right corner, like you might find in other Google apps.\n",
        "\n",
        "Text cells like the one this is written in don't run code, but are used for notes and explanations. Double click on a text cell to edit it.\n",
        "\n",
        "When we get to the code cells, there will be details on how to make the code work."
      ]
    },
    {
      "cell_type": "markdown",
      "metadata": {
        "id": "0XKrJj8ZqxWB"
      },
      "source": [
        "# Process of writing code\n",
        "\n",
        "\n",
        "\n",
        "1.   Define the goal\n",
        "2.   Design what it needs to do (flowchart, pseudocode, etc)\n",
        "3.   Code each step\n",
        "\n"
      ]
    },
    {
      "cell_type": "markdown",
      "metadata": {
        "id": "KT1bAvtUuMCo"
      },
      "source": [
        "# Programming languages\n",
        "\n",
        "These are how you write the instructions so the computer can understand them (with the help of some other software). Much like different spoken languages, these have their own vocabulary and syntax (grammatical rules), but often have a lot of similarities.\n",
        "\n",
        "You'll have to pick which one(s) to learn for what you're trying to do. For more help on this, see our [Choosing a coding language page](https://subjectguides.york.ac.uk/coding/languages).\n",
        "\n",
        "The code cells in this notebook is written in **Python**, a common programming language used because it is versatile and good for beginners."
      ]
    },
    {
      "cell_type": "markdown",
      "metadata": {
        "id": "fBOE0XlUuiN7"
      },
      "source": [
        "# Key coding concepts\n",
        "\n",
        "## Variables\n",
        "Variables are values stored in the computer, which can change and can be used in the code by referencing the variable’s name.\n",
        "\n",
        "## Data types\n",
        "Each variable will have a data type, such as number, string, boolean or list/array, which determines what can be done with the data.\n",
        "\n",
        "## Operators\n",
        "Operators are used to do things with variables, e.g. + - * / AND OR NOT\n",
        "\n",
        "## Loops\n",
        "Loops are a way of repeating an action for different values, without having to write the code out multiple times.\n",
        "\n",
        "## Conditions\n",
        "Conditions are a way of asking **if** something is true or false to determine whether a certain piece of code should run.\n",
        "\n",
        "##Comments\n",
        "Comments are written around your code to make it clear what it does and allow other people to see your process (separated from the code using specific notation e.g. # or // ).\n",
        "\n",
        "## Functions\n",
        "Function are named pieces of code that you can ‘call’ to run whenever you need it without having to write it all out again."
      ]
    },
    {
      "cell_type": "markdown",
      "metadata": {
        "id": "kivxNrKZyVSr"
      },
      "source": [
        "# Using the code cells\n",
        "\n",
        "You'll notice that the cell below looks a little different to the notebook so far. It is a code cell, used for writing and running Python code.\n",
        "\n",
        "Read through the cell, then follow the instruction in the comment (hint: the 'run' button is the play symbol you'll see on the left - or alternatively click on the cell and then press Ctrl + Enter (or Cmd + Enter on a Mac) to run it."
      ]
    },
    {
      "cell_type": "code",
      "metadata": {
        "id": "HerEg6wjn2nw"
      },
      "source": [
        "#Click on this cell and hit the 'run' button to run your first bit of code!\n",
        "\n",
        "print('Hello world!')"
      ],
      "execution_count": null,
      "outputs": []
    },
    {
      "cell_type": "markdown",
      "metadata": {
        "id": "azbTWByyzW4W"
      },
      "source": [
        "What did that do?\n",
        "\n",
        "Let's look at each line in turn. The first line begins with a # (hash) symbol, which in Python is how you mark something as a comment. That means the computer does not read the rest of the line, but we humans can!\n",
        "\n",
        "Line 2 is empty - in coding, it can be useful to leave empty lines to help you separate out code and read through it more easily (the computer doesn't care).\n",
        "\n",
        "Line 3 has two parts - the **print()** part and the **'Hello world!'** part. The first part is a statement that tells the computer to print whatever is inside the brackets onto the screen. The second part is what you want to be printed.\n",
        "\n",
        "Why the quotation marks? Because the thing we want to print - hello world! - is a string, and the string data type in Python needs to be surrounded by single or double quotes."
      ]
    },
    {
      "cell_type": "markdown",
      "metadata": {
        "id": "pEjOjotC05wJ"
      },
      "source": [
        "# Loop in Python\n",
        "\n",
        "Below is an example of a loop, that runs through each item in a list. Try running the code to see what happens.\n",
        "\n",
        "Next, try adding comments (remember, use the # key) to explain what parts of the code are doing."
      ]
    },
    {
      "cell_type": "code",
      "metadata": {
        "id": "SWPTbkAe3P0F"
      },
      "source": [
        "shopping_list = ['bread', 'cheese', 'apples', 'biscuits']\n",
        "\n",
        "for item in shopping_list:\n",
        "\tprint(item)"
      ],
      "execution_count": null,
      "outputs": []
    },
    {
      "cell_type": "markdown",
      "metadata": {
        "id": "qllAbMc9-99k"
      },
      "source": [
        "Make sure you've had a go adding comments (using the # symbol either on a new line before the one you're talking about, or putting the # symbol after the code and then typing your comment) before you read the next section, which explains the code in more detail.\n",
        "\n",
        "**Line 1** creates a new variable, called 'shopping_list' and assigns it the value of a list of items. The punctuation used here is key - often in coding, you have to pay close attention to the right punctuation. For example, the square brackets tell the computer this is a 'list' data type, so other kinds of brackets would not work.\n",
        "\n",
        "**Line 3** creates the loop. It is a 'for' loop, meaning it works 'for' a particular set of values. In this case, the set of values is the list 'shopping_list' and it is going to work through each value in that list, which has been given the name 'item'. The colon is very important: it tells Python to start the loop.\n",
        "\n",
        "**Line 4** is a line of code that is repeated within the loop. It must be indented to work, as that way Python knows it is part of the repeated code. You'll notice it is a 'print' statement as we saw earlier - so each of the values in the list will be printed on the screen."
      ]
    },
    {
      "cell_type": "markdown",
      "metadata": {
        "id": "QuusQ6Qs3SSb"
      },
      "source": [
        "# Conditional (if/else) in Python\n",
        "\n",
        "Below is an example of a conditional statement, so that certain code only runs if a certain condition is true, or if it isn't (else).\n",
        "\n",
        "Try running the code to see what happens. Next, try changing the value of the variable my_number to see how this changes the output.\n",
        "\n",
        "Then, add comments to explain what the code does."
      ]
    },
    {
      "cell_type": "code",
      "metadata": {
        "id": "eVLks8XJ3mCo"
      },
      "source": [
        "my_number = 7\n",
        "\n",
        "if (my_number < 10):\n",
        "\tprint('less than 10')\n",
        "else:\n",
        "  print('equal to or more than 10')"
      ],
      "execution_count": null,
      "outputs": []
    },
    {
      "cell_type": "markdown",
      "metadata": {
        "id": "0gmHm1L9FxEn"
      },
      "source": [
        "Make sure you've had a go adding comments (using the # symbol either on a new line before the one you're talking about, or putting the # symbol after the code and then typing your comment) before you read the next section, which explains the code in more detail.\n",
        "\n",
        "**Line 1** creates a new variable, my_number.\n",
        "\n",
        "**Line 3** starts the conditional statement, using 'if' and then the condition that must be evaluated, to decide which code to run. In this case, it checks if the number is less than 10. Like the loop, this line must end with a colon to work.\n",
        "\n",
        "**Line 4** contains the code that runs if the statement is **true**.\n",
        "\n",
        "**Line 5** gives another option, 'else'. This signals to the computer that the follow code will be what runs if the statement was not true.\n",
        "\n",
        "**Line 6** is that code that runs if the statement was not true, i.e. false.\n",
        "\n",
        "Both of the indented bits of code must be indented to work, as this shows they are inside the 'if' conditional statement."
      ]
    },
    {
      "cell_type": "markdown",
      "metadata": {
        "id": "-ztqYrfP8SZk"
      },
      "source": [
        "# Further Python\n",
        "\n",
        "This final example uses some new features - a function, and a method (a thing you can do with a variable) for appending extra values.\n",
        "\n",
        "Try running it to see what happens. Then, see you can annotate any elements using comments to try and explain what the code is doing.\n",
        "\n",
        "If you're not sure, it will be explained below, so don't panic!"
      ]
    },
    {
      "cell_type": "code",
      "metadata": {
        "id": "c9RRbUag8oBC"
      },
      "source": [
        "first_number = 99\n",
        "second_number = 77\n",
        "all_numbers = []\n",
        "\n",
        "def insert_it(value):\n",
        "  all_numbers.append(value)\n",
        "\n",
        "insert_it(first_number)\n",
        "insert_it(second_number)\n",
        "insert_it(345)\n",
        "\n",
        "print(all_numbers)"
      ],
      "execution_count": null,
      "outputs": []
    },
    {
      "cell_type": "markdown",
      "metadata": {
        "id": "7mVIXYaf8wJv"
      },
      "source": [
        "Once you've looked at the code and had a go annotating it or working out how each line might work, take a look below to see some of the key things going on.\n",
        "\n",
        "This is a program that adds numbers into a list, that starts empty. A function is used to add each number into the list, so the code doesn't have to be written out each time.\n",
        "\n",
        "**Lines 1-3** are where the variables are created. You'll notice there's three, two which are assigned numerical values and one which is assigned []. Those empty square brackets represent an empty list.\n",
        "\n",
        "**Lines 5-6** are where the function is created. Line 5 tells the computer to create a function called 'insert_it', and that function needs to be given a variable, 'value', to run.\n",
        "\n",
        "Line 6 is the code that makes up the function, i.e. is the code that runs whenever you tell the function to run. It takes the list 'all_numbers' and tells it to append (i.e. add to the end of the list) whichever value is put in the brackets when you run the function.\n",
        "\n",
        "**Lines 8-10** are all times that the function is run in the code. Each time, the function is given a different value in the brackets, so is adding different numbers to the list.\n",
        "\n",
        "**Line 12** prints the final value of the list 'all_numbers' so you can check that the numbers were appended to it."
      ]
    },
    {
      "cell_type": "markdown",
      "metadata": {
        "id": "IuqGLRLrIwiX"
      },
      "source": [
        "# Where to go next\n",
        "\n",
        "Hopefully this session and worksheet has given you an introduction to some of the key concepts used in coding, like variables, data types, loops, and conditions.\n",
        "\n",
        "If you now want to go away and learn a particular programming language, that's great! There's a range of ways you can do so.\n",
        "\n",
        "\n",
        "\n",
        "*   Check out the resources and suggestions on our [Coding Practical Guide](https://subjectguides.york.ac.uk/coding/languages) (on there you'll also find links to any current coding training we're offering).\n",
        "*   If you enjoyed learning Python and think it might be useful for you, our [Python page on the Coding practical guide](https://subjectguides.york.ac.uk/coding/python) has session resources (including a notebook like this that goes into much more depth with basic Python concepts) and suggestions for further Python courses focused on different areas.\n",
        "*   If you'd like to learn more Python, check if we are running any Python sessions on our [Training page](https://subjectguides.york.ac.uk/skills/training) (everyone at the University of York), on the [Learning Management System](https://york-ac.csod.com/) (staff) or [SkillsForge](https://www.skillsforge.york.ac.uk/york/#common/main/welcome,;) (PGR students) which you can book onto.\n",
        "*   Look on websites like Futurelearn and edX for free online coding courses in particular coding languages.\n",
        "*   Think about what you might want to learn next, and get in touch via itsupport@york.ac.uk if you've got any questions.\n",
        "\n"
      ]
    }
  ]
}